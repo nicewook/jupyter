{
 "cells": [
  {
   "cell_type": "code",
   "execution_count": 4,
   "metadata": {
    "collapsed": false
   },
   "outputs": [
    {
     "name": "stdout",
     "output_type": "stream",
     "text": [
      "Hello world!\n"
     ]
    },
    {
     "data": {
      "text/html": [
       "<table><tr><td>some</td><td>table</td></tr></table>"
      ]
     },
     "metadata": {},
     "output_type": "display_data"
    },
    {
     "data": {
      "image/png": "[encoded data removed]",
      "text/plain": [
       "<matplotlib.figure.Figure at 0x80d55f8>"
      ]
     },
     "metadata": {},
     "output_type": "display_data"
    }
   ],
   "source": [
    "import numpy as np\n",
    "import matplotlib.pyplot as plt\n",
    "%matplotlib inline\n",
    "print(\"Hello world!\")\n",
    "plt.imshow(np.random.rand(20, 20), interpolation='none');\n",
    "\n",
    "from IPython.display import display_html\n",
    "from ipywidgets import FloatSlider\n",
    "display_html('<table><tr><td>some</td><td>table</td></tr></table>', raw=True)\n",
    "FloatSlider(value=70)"
   ]
  },
  {
   "cell_type": "code",
   "execution_count": 7,
   "metadata": {
    "collapsed": false
   },
   "outputs": [
    {
     "name": "stdout",
     "output_type": "stream",
     "text": [
      "pi is about 3.1415\n"
     ]
    }
   ],
   "source": [
    "somefloat = 3.1415\n",
    "somestring = 'pi is about'\n",
    "print(somestring, somefloat)"
   ]
  },
  {
   "cell_type": "code",
   "execution_count": 8,
   "metadata": {
    "collapsed": false
   },
   "outputs": [
    {
     "name": "stdout",
     "output_type": "stream",
     "text": [
      "hello \"world\"\n",
      "A list:\n",
      "* item 1\n",
      "* item 2\n",
      "C:\\path\\on\\window\n",
      "C:\\path\\on\\window\n"
     ]
    }
   ],
   "source": [
    "print(\"hello \\\"world\\\"\")\n",
    "print(\"A list:\\n* item 1\\n* item 2\")\n",
    "print(\"C:\\\\path\\\\on\\\\window\")\n",
    "print(r\"C:\\path\\on\\window\")"
   ]
  },
  {
   "cell_type": "code",
   "execution_count": 9,
   "metadata": {
    "collapsed": false
   },
   "outputs": [
    {
     "name": "stdout",
     "output_type": "stream",
     "text": [
      "5 15 1 5\n",
      "[1, 9, 3, 4, 5]\n"
     ]
    }
   ],
   "source": [
    "items = [1, 2, 3, 4, 5]\n",
    "print(len(items), sum(items), items[0], items[-1])\n",
    "items[1] = 9\n",
    "print(items)"
   ]
  },
  {
   "cell_type": "code",
   "execution_count": 10,
   "metadata": {
    "collapsed": false
   },
   "outputs": [
    {
     "name": "stdout",
     "output_type": "stream",
     "text": [
      "[9, 3]\n"
     ]
    }
   ],
   "source": [
    "print(items[1:3])"
   ]
  },
  {
   "cell_type": "code",
   "execution_count": 12,
   "metadata": {
    "collapsed": false
   },
   "outputs": [
    {
     "name": "stdout",
     "output_type": "stream",
     "text": [
      "2\n"
     ]
    }
   ],
   "source": [
    "my_tuple = (1,2,3)\n",
    "print(my_tuple[1])"
   ]
  },
  {
   "cell_type": "code",
   "execution_count": 13,
   "metadata": {
    "collapsed": false
   },
   "outputs": [
    {
     "name": "stdout",
     "output_type": "stream",
     "text": [
      "a: 1\n"
     ]
    }
   ],
   "source": [
    "my_dict = {'a':1, 'b':2, 'c':3}\n",
    "print('a:', my_dict['a'])"
   ]
  },
  {
   "cell_type": "code",
   "execution_count": 14,
   "metadata": {
    "collapsed": false
   },
   "outputs": [
    {
     "name": "stdout",
     "output_type": "stream",
     "text": [
      "dict_keys(['c', 'a', 'b'])\n"
     ]
    }
   ],
   "source": [
    "print(my_dict.keys())"
   ]
  },
  {
   "cell_type": "code",
   "execution_count": 15,
   "metadata": {
    "collapsed": true
   },
   "outputs": [],
   "source": [
    "my_set = set([1,2,3,2,1])"
   ]
  },
  {
   "cell_type": "code",
   "execution_count": 17,
   "metadata": {
    "collapsed": false
   },
   "outputs": [
    {
     "data": {
      "text/plain": [
       "{1, 2, 3}"
      ]
     },
     "execution_count": 17,
     "metadata": {},
     "output_type": "execute_result"
    }
   ],
   "source": [
    "my_set"
   ]
  },
  {
   "cell_type": "code",
   "execution_count": 18,
   "metadata": {
    "collapsed": false
   },
   "outputs": [
    {
     "name": "stdout",
     "output_type": "stream",
     "text": [
      "1\n",
      "9\n",
      "3\n",
      "4\n",
      "5\n"
     ]
    }
   ],
   "source": [
    "for item in items:\n",
    "    print(item)"
   ]
  },
  {
   "cell_type": "code",
   "execution_count": 19,
   "metadata": {
    "collapsed": true
   },
   "outputs": [],
   "source": [
    "squares = [item * item for item in items]"
   ]
  },
  {
   "cell_type": "code",
   "execution_count": 20,
   "metadata": {
    "collapsed": false
   },
   "outputs": [
    {
     "name": "stdout",
     "output_type": "stream",
     "text": [
      "[1, 81, 9, 16, 25]\n"
     ]
    }
   ],
   "source": [
    "print(squares)"
   ]
  },
  {
   "cell_type": "code",
   "execution_count": 23,
   "metadata": {
    "collapsed": false
   },
   "outputs": [
    {
     "name": "stdout",
     "output_type": "stream",
     "text": [
      "4\n"
     ]
    }
   ],
   "source": [
    "for item in items:\n",
    "    if item % 2 == 0:\n",
    "        print(item)"
   ]
  },
  {
   "cell_type": "code",
   "execution_count": 25,
   "metadata": {
    "collapsed": false
   },
   "outputs": [
    {
     "name": "stdout",
     "output_type": "stream",
     "text": [
      "[1, 3, 4]\n"
     ]
    }
   ],
   "source": [
    "even = [item for item in items if item < 5]\n",
    "print(even)"
   ]
  },
  {
   "cell_type": "code",
   "execution_count": 27,
   "metadata": {
    "collapsed": false
   },
   "outputs": [],
   "source": [
    "def is_even(number):\n",
    "    \"\"\"짝수이면 True를 return 한다.\"\"\"\n",
    "    return number % 2 == 0"
   ]
  },
  {
   "cell_type": "code",
   "execution_count": 30,
   "metadata": {
    "collapsed": false
   },
   "outputs": [
    {
     "name": "stdout",
     "output_type": "stream",
     "text": [
      "False\n",
      "True\n"
     ]
    }
   ],
   "source": [
    "print(is_even(3))\n",
    "print(is_even(3249023740972))\n"
   ]
  },
  {
   "cell_type": "code",
   "execution_count": 31,
   "metadata": {
    "collapsed": false
   },
   "outputs": [
    {
     "name": "stdout",
     "output_type": "stream",
     "text": [
      "1 0\n"
     ]
    }
   ],
   "source": [
    "def remainder(number, divider=2):\n",
    "    return number % divider\n",
    "\n",
    "print(remainder(5), remainder(5,5))"
   ]
  },
  {
   "cell_type": "code",
   "execution_count": 34,
   "metadata": {
    "collapsed": false
   },
   "outputs": [
    {
     "name": "stdout",
     "output_type": "stream",
     "text": [
      "Positional arguments: (1, 2)\n",
      "Keyword arguments: {'c': 3, 'd': 4}\n"
     ]
    }
   ],
   "source": [
    "def f(*args, **kwargs):\n",
    "    print('Positional arguments:', args)\n",
    "    print('Keyword arguments:', kwargs )\n",
    "\n",
    "f(1,2, c=3, d=4)"
   ]
  },
  {
   "cell_type": "code",
   "execution_count": 35,
   "metadata": {
    "collapsed": false
   },
   "outputs": [
    {
     "ename": "ZeroDivisionError",
     "evalue": "division by zero",
     "output_type": "error",
     "traceback": [
      "\u001b[0;31m---------------------------------------------------------------------------\u001b[0m",
      "\u001b[0;31mZeroDivisionError\u001b[0m                         Traceback (most recent call last)",
      "\u001b[0;32m<ipython-input-35-88e6be3665fe>\u001b[0m in \u001b[0;36m<module>\u001b[0;34m()\u001b[0m\n\u001b[1;32m      2\u001b[0m     \u001b[1;32mreturn\u001b[0m \u001b[0ma\u001b[0m\u001b[1;33m/\u001b[0m\u001b[0mb\u001b[0m\u001b[1;33m\u001b[0m\u001b[0m\n\u001b[1;32m      3\u001b[0m \u001b[1;33m\u001b[0m\u001b[0m\n\u001b[0;32m----> 4\u001b[0;31m \u001b[0mdivide\u001b[0m\u001b[1;33m(\u001b[0m\u001b[1;36m5\u001b[0m\u001b[1;33m,\u001b[0m\u001b[1;36m0\u001b[0m\u001b[1;33m)\u001b[0m\u001b[1;33m\u001b[0m\u001b[0m\n\u001b[0m",
      "\u001b[0;32m<ipython-input-35-88e6be3665fe>\u001b[0m in \u001b[0;36mdivide\u001b[0;34m(a, b)\u001b[0m\n\u001b[1;32m      1\u001b[0m \u001b[1;32mdef\u001b[0m \u001b[0mdivide\u001b[0m\u001b[1;33m(\u001b[0m\u001b[0ma\u001b[0m\u001b[1;33m,\u001b[0m\u001b[0mb\u001b[0m\u001b[1;33m)\u001b[0m\u001b[1;33m:\u001b[0m\u001b[1;33m\u001b[0m\u001b[0m\n\u001b[0;32m----> 2\u001b[0;31m     \u001b[1;32mreturn\u001b[0m \u001b[0ma\u001b[0m\u001b[1;33m/\u001b[0m\u001b[0mb\u001b[0m\u001b[1;33m\u001b[0m\u001b[0m\n\u001b[0m\u001b[1;32m      3\u001b[0m \u001b[1;33m\u001b[0m\u001b[0m\n\u001b[1;32m      4\u001b[0m \u001b[0mdivide\u001b[0m\u001b[1;33m(\u001b[0m\u001b[1;36m5\u001b[0m\u001b[1;33m,\u001b[0m\u001b[1;36m0\u001b[0m\u001b[1;33m)\u001b[0m\u001b[1;33m\u001b[0m\u001b[0m\n",
      "\u001b[0;31mZeroDivisionError\u001b[0m: division by zero"
     ]
    }
   ],
   "source": [
    "def divide(a,b):\n",
    "    return a/b\n",
    "\n",
    "divide(5,0)"
   ]
  },
  {
   "cell_type": "code",
   "execution_count": 36,
   "metadata": {
    "collapsed": false
   },
   "outputs": [
    {
     "data": {
      "text/plain": [
       "str"
      ]
     },
     "execution_count": 36,
     "metadata": {},
     "output_type": "execute_result"
    }
   ],
   "source": [
    "type('hello')"
   ]
  },
  {
   "cell_type": "code",
   "execution_count": 37,
   "metadata": {
    "collapsed": false
   },
   "outputs": [
    {
     "data": {
      "text/plain": [
       "int"
      ]
     },
     "execution_count": 37,
     "metadata": {},
     "output_type": "execute_result"
    }
   ],
   "source": [
    "type(5)"
   ]
  },
  {
   "cell_type": "code",
   "execution_count": 38,
   "metadata": {
    "collapsed": false
   },
   "outputs": [
    {
     "data": {
      "text/plain": [
       "float"
      ]
     },
     "execution_count": 38,
     "metadata": {},
     "output_type": "execute_result"
    }
   ],
   "source": [
    "type(5.0)"
   ]
  },
  {
   "cell_type": "code",
   "execution_count": 39,
   "metadata": {
    "collapsed": false
   },
   "outputs": [
    {
     "name": "stdout",
     "output_type": "stream",
     "text": [
      "HELLO\n"
     ]
    }
   ],
   "source": [
    "print('hello'.upper())"
   ]
  },
  {
   "cell_type": "code",
   "execution_count": 41,
   "metadata": {
    "collapsed": false
   },
   "outputs": [
    {
     "data": {
      "text/plain": [
       "'Hello Python!'"
      ]
     },
     "execution_count": 41,
     "metadata": {},
     "output_type": "execute_result"
    }
   ],
   "source": [
    "'Hello {0:s}!'.format('Python')"
   ]
  },
  {
   "cell_type": "code",
   "execution_count": 46,
   "metadata": {
    "collapsed": false
   },
   "outputs": [
    {
     "name": "stdout",
     "output_type": "stream",
     "text": [
      "The result is True\n"
     ]
    }
   ],
   "source": [
    "def show_output(func):\n",
    "    def wrapped(*arg, **kwargs):\n",
    "        output = func(*arg, **kwargs)\n",
    "        print('The result is', output)\n",
    "    return wrapped\n",
    "\n",
    "f = show_output(is_even)\n",
    "f(32408902)"
   ]
  },
  {
   "cell_type": "code",
   "execution_count": 48,
   "metadata": {
    "collapsed": false
   },
   "outputs": [
    {
     "name": "stdout",
     "output_type": "stream",
     "text": [
      "The result is 81\n"
     ]
    }
   ],
   "source": [
    "@show_output\n",
    "def my_square(x):\n",
    "    return x*x\n",
    "\n",
    "my_square(9)"
   ]
  },
  {
   "cell_type": "code",
   "execution_count": 50,
   "metadata": {
    "collapsed": false
   },
   "outputs": [
    {
     "name": "stdout",
     "output_type": "stream",
     "text": [
      " D 드라이브의 볼륨에는 이름이 없습니다.\n",
      " 볼륨 일련 번호: 900E-C4EC\n",
      "\n",
      " D:\\work\\jupyter 디렉터리\n",
      "\n",
      "2017-01-05  오전 11:17    <DIR>          .\n",
      "2017-01-05  오전 11:17    <DIR>          ..\n",
      "2017-01-05  오전 09:46    <DIR>          .ipynb_checkpoints\n",
      "2017-01-05  오전 11:17            20,848 book_42p.ipynb\n",
      "2016-12-28  오전 10:22                18 j.bat\n",
      "2016-12-28  오후 03:08    <DIR>          jupyter\n",
      "2016-12-28  오후 02:09             3,537 jupyter notebook - first meet.ipynb\n",
      "2017-01-05  오전 09:29    <DIR>          minibook-2nd-code\n",
      "2016-12-28  오후 02:37            72,837 Testing Jupyter.ipynb\n",
      "2016-12-28  오전 11:03               636 Untitled.ipynb\n",
      "2017-01-05  오전 09:41                72 Untitled1.ipynb\n",
      "               6개 파일              97,948 바이트\n",
      "               5개 디렉터리  308,333,166,592 바이트 남음\n"
     ]
    }
   ],
   "source": [
    "%ls"
   ]
  },
  {
   "cell_type": "code",
   "execution_count": 52,
   "metadata": {
    "collapsed": false
   },
   "outputs": [
    {
     "data": {
      "text/plain": [
       "'D:\\\\work\\\\jupyter'"
      ]
     },
     "execution_count": 52,
     "metadata": {},
     "output_type": "execute_result"
    }
   ],
   "source": [
    "%pwd"
   ]
  },
  {
   "cell_type": "code",
   "execution_count": 54,
   "metadata": {
    "collapsed": false
   },
   "outputs": [
    {
     "name": "stderr",
     "output_type": "stream",
     "text": [
      "--2017-01-05 11:19:44--  https://raw.githubusercontent.com/ipython-books/minibook-2nd-data/master/faceboo.zip\n",
      "Resolving raw.githubusercontent.com... 151.101.100.133\n",
      "Connecting to raw.githubusercontent.com|151.101.100.133|:443... connected.\n",
      "ERROR: cannot verify raw.githubusercontent.com's certificate, issued by `/C=US/O=DigiCert Inc/OU=www.digicert.com/CN=DigiCert SHA2 High Assurance Server CA':\n",
      "  Unable to locally verify the issuer's authority.\n",
      "ERROR: certificate common name `www.github.com' doesn't match requested host name `raw.githubusercontent.com'.\n",
      "To connect to raw.githubusercontent.com insecurely, use `--no-check-certificate'.\n",
      "Unable to establish SSL connection.\n"
     ]
    }
   ],
   "source": [
    "!wget https://raw.githubusercontent.com/ipython-books/minibook-2nd-data/master/faceboo.zip"
   ]
  },
  {
   "cell_type": "code",
   "execution_count": 57,
   "metadata": {
    "collapsed": true
   },
   "outputs": [],
   "source": [
    "%bookmark jhs_notebook"
   ]
  },
  {
   "cell_type": "code",
   "execution_count": 59,
   "metadata": {
    "collapsed": false
   },
   "outputs": [
    {
     "name": "stdout",
     "output_type": "stream",
     "text": [
      "%history -l 5\n",
      "%pwd\n",
      "!wget https://raw.githubusercontent.com/ipython-books/minibook-2nd-data/master/facebook.zip\n",
      "%ls\n",
      "!unzip facebook.zip\n"
     ]
    }
   ],
   "source": [
    "%history -l 5"
   ]
  },
  {
   "cell_type": "code",
   "execution_count": 61,
   "metadata": {
    "collapsed": false
   },
   "outputs": [
    {
     "name": "stdout",
     "output_type": "stream",
     "text": [
      "Directory history (kept in _dh)\n",
      "0: D:\\work\\jupyter\n"
     ]
    }
   ],
   "source": [
    "%dhist"
   ]
  },
  {
   "cell_type": "code",
   "execution_count": 63,
   "metadata": {
    "collapsed": false
   },
   "outputs": [
    {
     "data": {
      "text/plain": [
       "1440"
      ]
     },
     "execution_count": 63,
     "metadata": {},
     "output_type": "execute_result"
    }
   ],
   "source": [
    "24*60"
   ]
  },
  {
   "cell_type": "code",
   "execution_count": 64,
   "metadata": {
    "collapsed": false
   },
   "outputs": [
    {
     "data": {
      "text/plain": [
       "86400"
      ]
     },
     "execution_count": 64,
     "metadata": {},
     "output_type": "execute_result"
    }
   ],
   "source": [
    "_*60"
   ]
  },
  {
   "cell_type": "code",
   "execution_count": 65,
   "metadata": {
    "collapsed": false
   },
   "outputs": [
    {
     "data": {
      "text/plain": [
       "86400"
      ]
     },
     "execution_count": 65,
     "metadata": {},
     "output_type": "execute_result"
    }
   ],
   "source": [
    "_"
   ]
  },
  {
   "cell_type": "code",
   "execution_count": 72,
   "metadata": {
    "collapsed": false
   },
   "outputs": [
    {
     "data": {
      "text/plain": [
       "' D 드라이브의 볼륨에는 이름이 없습니다.\\n 볼륨 일련 번호: 900E-C4EC\\n\\n D:\\\\work\\\\jupyter 디렉터리\\n\\n2017-01-05  오전 11:27    <DIR>          .\\n2017-01-05  오전 11:27    <DIR>          ..\\n2017-01-05  오전 09:46    <DIR>          .ipynb_checkpoints\\n2017-01-05  오전 11:27            25,511 book_42p.ipynb\\n2016-12-28  오전 10:22                18 j.bat\\n2016-12-28  오후 03:08    <DIR>          jupyter\\n2016-12-28  오후 02:09             3,537 jupyter notebook - first meet.ipynb\\n2017-01-05  오전 09:29    <DIR>          minibook-2nd-code\\n2016-12-28  오후 02:37            72,837 Testing Jupyter.ipynb\\n2016-12-28  오전 11:03               636 Untitled.ipynb\\n2017-01-05  오전 09:41                72 Untitled1.ipynb\\n               6개 파일             102,611 바이트\\n               5개 디렉터리  308,333,137,920 바이트 남음\\n'"
      ]
     },
     "execution_count": 72,
     "metadata": {},
     "output_type": "execute_result"
    }
   ],
   "source": [
    "%%capture output\n",
    "%ls\n",
    "output.stdout"
   ]
  },
  {
   "cell_type": "code",
   "execution_count": 75,
   "metadata": {
    "collapsed": false
   },
   "outputs": [
    {
     "name": "stdout",
     "output_type": "stream",
     "text": [
      "book_42p.ipynb\n",
      "j.bat\n",
      "jupyter\n",
      "jupyter notebook - first meet.ipynb\n",
      "minibook-2nd-code\n",
      "Testing Jupyter.ipynb\n",
      "Untitled.ipynb\n",
      "Untitled1.ipynb\n"
     ]
    }
   ],
   "source": [
    "%%bash\n",
    "ls"
   ]
  },
  {
   "cell_type": "code",
   "execution_count": 77,
   "metadata": {
    "collapsed": false
   },
   "outputs": [
    {
     "name": "stdout",
     "output_type": "stream",
     "text": [
      "Overwriting jhs_test.txt\n"
     ]
    }
   ],
   "source": [
    "%%writefile jhs_test.txt\n",
    "this is my test\n",
    "test on going"
   ]
  },
  {
   "cell_type": "code",
   "execution_count": 80,
   "metadata": {
    "collapsed": false
   },
   "outputs": [
    {
     "name": "stdout",
     "output_type": "stream",
     "text": [
      "(bookmark:jhs_notebook) -> D:\\work\\jupyter\n",
      "D:\\work\\jupyter\n",
      " D 드라이브의 볼륨에는 이름이 없습니다.\n",
      " 볼륨 일련 번호: 900E-C4EC\n",
      "\n",
      " D:\\work\\jupyter 디렉터리\n",
      "\n",
      "2017-01-05  오전 11:33    <DIR>          .\n",
      "2017-01-05  오전 11:33    <DIR>          ..\n",
      "2017-01-05  오전 09:46    <DIR>          .ipynb_checkpoints\n",
      "2017-01-05  오전 11:33            27,630 book_42p.ipynb\n",
      "2016-12-28  오전 10:22                18 j.bat\n",
      "2017-01-05  오전 11:32                30 jhs_test.txt\n",
      "2016-12-28  오후 03:08    <DIR>          jupyter\n",
      "2016-12-28  오후 02:09             3,537 jupyter notebook - first meet.ipynb\n",
      "2017-01-05  오전 09:29    <DIR>          minibook-2nd-code\n",
      "2016-12-28  오후 02:37            72,837 Testing Jupyter.ipynb\n",
      "2016-12-28  오전 11:03               636 Untitled.ipynb\n",
      "2017-01-05  오전 09:41                72 Untitled1.ipynb\n",
      "               7개 파일             104,760 바이트\n",
      "               5개 디렉터리  308,333,137,920 바이트 남음\n"
     ]
    }
   ],
   "source": [
    "%cd jhs_notebook\n",
    "%ls"
   ]
  },
  {
   "cell_type": "code",
   "execution_count": 81,
   "metadata": {
    "collapsed": false
   },
   "outputs": [
    {
     "name": "stdout",
     "output_type": "stream",
     "text": [
      "this is my test\n",
      "test on going\n"
     ]
    }
   ],
   "source": [
    "!head -n5 jhs_test.txt"
   ]
  },
  {
   "cell_type": "code",
   "execution_count": 84,
   "metadata": {
    "collapsed": false
   },
   "outputs": [
    {
     "data": {
      "image/jpeg": "[encoded data removed]",
      "text/html": [
       "\n",
       "        <iframe\n",
       "            width=\"400\"\n",
       "            height=\"300\"\n",
       "            src=\"https://www.youtube.com/embed/j9YpkSX7NNM\"\n",
       "            frameborder=\"0\"\n",
       "            allowfullscreen\n",
       "        ></iframe>\n",
       "        "
      ],
      "text/plain": [
       "<IPython.lib.display.YouTubeVideo at 0x822b4a8>"
      ]
     },
     "execution_count": 84,
     "metadata": {},
     "output_type": "execute_result"
    }
   ],
   "source": [
    "from IPython.display import YouTubeVideo\n",
    "YouTubeVideo('j9YpkSX7NNM')"
   ]
  },
  {
   "cell_type": "code",
   "execution_count": 86,
   "metadata": {
    "collapsed": false
   },
   "outputs": [
    {
     "name": "stdout",
     "output_type": "stream",
     "text": [
      "The square of 5 is 25\n"
     ]
    }
   ],
   "source": [
    "from ipywidgets import interact\n",
    "@interact(x=(0,10))\n",
    "def square(x):\n",
    "    print(\"The square of %d is %d\" %(x, x**2))"
   ]
  },
  {
   "cell_type": "code",
   "execution_count": 90,
   "metadata": {
    "collapsed": false
   },
   "outputs": [
    {
     "name": "stdout",
     "output_type": "stream",
     "text": [
      " D 드라이브의 볼륨에는 이름이 없습니다.\n",
      " 볼륨 일련 번호: 900E-C4EC\n",
      "\n",
      " D:\\work\\jupyter 디렉터리\n",
      "\n",
      "2017-01-05  오후 01:17    <DIR>          .\n",
      "2017-01-05  오후 01:17    <DIR>          ..\n",
      "2017-01-05  오전 09:46    <DIR>          .ipynb_checkpoints\n",
      "2017-01-05  오후 01:17            49,290 book_42p.ipynb\n",
      "2016-12-28  오전 10:22                18 j.bat\n",
      "2017-01-05  오전 11:32                30 jhs_test.txt\n",
      "2016-12-28  오후 03:08    <DIR>          jupyter\n",
      "2016-12-28  오후 02:09             3,537 jupyter notebook - first meet.ipynb\n",
      "2017-01-05  오전 09:29    <DIR>          minibook-2nd-code\n",
      "2016-12-28  오후 02:37            72,837 Testing Jupyter.ipynb\n",
      "2016-12-28  오전 11:03               636 Untitled.ipynb\n",
      "2017-01-05  오전 09:41                72 Untitled1.ipynb\n",
      "               7개 파일             126,420 바이트\n",
      "               5개 디렉터리  308,333,113,344 바이트 남음\n"
     ]
    }
   ],
   "source": [
    "%ls"
   ]
  },
  {
   "cell_type": "code",
   "execution_count": 101,
   "metadata": {
    "collapsed": false
   },
   "outputs": [
    {
     "name": "stdout",
     "output_type": "stream",
     "text": [
      "Overwriting egos.py\n"
     ]
    }
   ],
   "source": [
    "%%writefile egos.py\n",
    "import sys\n",
    "import os\n",
    "\n",
    "if len(sys.argv) > 1:\n",
    "    folder = sys.argv[1]\n",
    "    \n",
    "files = os.listdir(folder)\n",
    "identifiers = [(file.split('.')[0]) for file in files]\n",
    "ids = sorted(set(identifiers))\n"
   ]
  },
  {
   "cell_type": "code",
   "execution_count": 104,
   "metadata": {
    "collapsed": false
   },
   "outputs": [],
   "source": [
    "%run egos.py minibook-2nd-code/"
   ]
  },
  {
   "cell_type": "code",
   "execution_count": 107,
   "metadata": {
    "collapsed": false
   },
   "outputs": [
    {
     "data": {
      "text/plain": [
       "['',\n",
       " 'README',\n",
       " 'chapter1',\n",
       " 'chapter2',\n",
       " 'chapter3',\n",
       " 'chapter4',\n",
       " 'chapter5',\n",
       " 'chapter6',\n",
       " 'utils']"
      ]
     },
     "execution_count": 107,
     "metadata": {},
     "output_type": "execute_result"
    }
   ],
   "source": [
    "ids"
   ]
  },
  {
   "cell_type": "code",
   "execution_count": 109,
   "metadata": {
    "collapsed": true
   },
   "outputs": [],
   "source": [
    "import networkx\n",
    "networkx.Graph?"
   ]
  },
  {
   "cell_type": "code",
   "execution_count": 111,
   "metadata": {
    "collapsed": false
   },
   "outputs": [
    {
     "name": "stdout",
     "output_type": "stream",
     "text": [
      "[WinError 2] 지정된 파일을 찾을 수 없습니다: 'facebook'\n",
      "D:\\work\\jupyter\\facebook\n"
     ]
    }
   ],
   "source": [
    "%cd facebook"
   ]
  },
  {
   "cell_type": "code",
   "execution_count": 112,
   "metadata": {
    "collapsed": false
   },
   "outputs": [
    {
     "name": "stdout",
     "output_type": "stream",
     "text": [
      " D 드라이브의 볼륨에는 이름이 없습니다.\n",
      " 볼륨 일련 번호: 900E-C4EC\n",
      "\n",
      " D:\\work\\jupyter\\facebook 디렉터리\n",
      "\n",
      "2017-01-05  오후 01:42    <DIR>          .\n",
      "2017-01-05  오후 01:42    <DIR>          ..\n",
      "2012-12-03  오전 03:14             1,400 0.circles\n",
      "2012-12-29  오후 02:08            37,228 0.edges\n",
      "2012-12-03  오전 03:14             2,510 107.circles\n",
      "2012-12-29  오후 02:08           523,802 107.edges\n",
      "2012-12-03  오전 03:15             4,022 1684.circles\n",
      "2012-12-29  오후 02:08           280,354 1684.edges\n",
      "2012-12-03  오전 03:15             5,716 1912.circles\n",
      "2012-12-29  오후 02:08           600,274 1912.edges\n",
      "2012-12-03  오전 03:15             1,238 3437.circles\n",
      "2012-12-29  오후 02:08            96,188 3437.edges\n",
      "2012-12-03  오전 03:14             2,382 348.circles\n",
      "2012-12-29  오후 02:08            51,066 348.edges\n",
      "2012-12-03  오전 03:15               432 3980.circles\n",
      "2012-12-29  오후 02:08             2,914 3980.edges\n",
      "2012-12-03  오전 03:14               768 414.circles\n",
      "2012-12-29  오후 02:08            27,082 414.edges\n",
      "2012-12-03  오전 03:14             2,056 686.circles\n",
      "2012-12-29  오후 02:08            26,496 686.edges\n",
      "2012-12-03  오전 03:14               447 698.circles\n",
      "2012-12-29  오후 02:08             4,320 698.edges\n",
      "              20개 파일           1,670,695 바이트\n",
      "               2개 디렉터리  308,331,397,120 바이트 남음\n"
     ]
    }
   ],
   "source": [
    "%ls"
   ]
  },
  {
   "cell_type": "code",
   "execution_count": 113,
   "metadata": {
    "collapsed": false
   },
   "outputs": [
    {
     "data": {
      "text/plain": [
       "(1034, 26749)"
      ]
     },
     "execution_count": 113,
     "metadata": {},
     "output_type": "execute_result"
    }
   ],
   "source": [
    "import networkx\n",
    "graph = networkx.read_edgelist('107.edges')\n",
    "len(graph.nodes()), len(graph.edges())"
   ]
  },
  {
   "cell_type": "code",
   "execution_count": 115,
   "metadata": {
    "collapsed": false
   },
   "outputs": [
    {
     "data": {
      "text/plain": [
       "True"
      ]
     },
     "execution_count": 115,
     "metadata": {},
     "output_type": "execute_result"
    }
   ],
   "source": [
    "networkx.is_connected(graph)"
   ]
  },
  {
   "cell_type": "code",
   "execution_count": 117,
   "metadata": {
    "collapsed": false
   },
   "outputs": [
    {
     "name": "stdout",
     "output_type": "stream",
     "text": [
      "100 loops, best of 3: 3.03 ms per loop\n"
     ]
    }
   ],
   "source": [
    "%timeit networkx.is_connected(graph)"
   ]
  },
  {
   "cell_type": "code",
   "execution_count": 119,
   "metadata": {
    "collapsed": false
   },
   "outputs": [
    {
     "name": "stdout",
     "output_type": "stream",
     "text": [
      "0.edges      5 components(s)\n",
      "107.edges    1 components(s)\n",
      "1684.edges   4 components(s)\n",
      "1912.edges   2 components(s)\n",
      "3437.edges   2 components(s)\n",
      "348.edges    1 components(s)\n",
      "3980.edges   4 components(s)\n",
      "414.edges    2 components(s)\n",
      "686.edges    1 components(s)\n",
      "698.edges    3 components(s)\n"
     ]
    }
   ],
   "source": [
    "import networkx\n",
    "def ncomponents(file):\n",
    "    graph = networkx.read_edgelist(file)\n",
    "    return networkx.number_connected_components(graph)\n",
    "\n",
    "import glob\n",
    "def ncomponents_files():\n",
    "    return [(file, ncomponents(file))\n",
    "           for file in sorted(glob.glob('*.edges'))]\n",
    "\n",
    "for file, n in ncomponents_files():\n",
    "    print(file.ljust(12), n, 'components(s)')"
   ]
  },
  {
   "cell_type": "code",
   "execution_count": 120,
   "metadata": {
    "collapsed": false
   },
   "outputs": [
    {
     "name": "stdout",
     "output_type": "stream",
     "text": [
      "1 loop, best of 3: 561 ms per loop\n"
     ]
    }
   ],
   "source": [
    "%timeit ncomponents_files()"
   ]
  },
  {
   "cell_type": "code",
   "execution_count": 121,
   "metadata": {
    "collapsed": false
   },
   "outputs": [
    {
     "name": "stdout",
     "output_type": "stream",
     "text": [
      " "
     ]
    }
   ],
   "source": [
    "%prun -s cumtime ncomponents_files()\n"
   ]
  },
  {
   "cell_type": "code",
   "execution_count": null,
   "metadata": {
    "collapsed": true
   },
   "outputs": [],
   "source": []
  }
 ],
 "metadata": {
  "anaconda-cloud": {},
  "kernelspec": {
   "display_name": "Python [default]",
   "language": "python",
   "name": "python3"
  },
  "language_info": {
   "codemirror_mode": {
    "name": "ipython",
    "version": 3
   },
   "file_extension": ".py",
   "mimetype": "text/x-python",
   "name": "python",
   "nbconvert_exporter": "python",
   "pygments_lexer": "ipython3",
   "version": "3.5.2"
  },
  "widgets": {
   "state": {
    "06ac2ec136cd4bc487372f0a97a11262": {
     "views": [
      {
       "cell_index": 42
      }
     ]
    },
    "111d4588d10548dd8f2f75f767334ae5": {
     "views": [
      {
       "cell_index": 0
      }
     ]
    }
   },
   "version": "1.2.0"
  }
 },
 "nbformat": 4,
 "nbformat_minor": 1
}
