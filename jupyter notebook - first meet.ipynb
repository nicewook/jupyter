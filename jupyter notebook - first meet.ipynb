{
 "cells": [
  {
   "cell_type": "code",
   "execution_count": 1,
   "metadata": {
    "collapsed": false
   },
   "outputs": [
    {
     "name": "stdout",
     "output_type": "stream",
     "text": [
      "Hello World\n"
     ]
    }
   ],
   "source": [
    "print(\"Hello World\")"
   ]
  },
  {
   "cell_type": "code",
   "execution_count": 3,
   "metadata": {
    "collapsed": false
   },
   "outputs": [
    {
     "name": "stdout",
     "output_type": "stream",
     "text": [
      "This is JHS\n"
     ]
    }
   ],
   "source": [
    "print(\"This is JHS\")"
   ]
  },
  {
   "cell_type": "markdown",
   "metadata": {},
   "source": [
    "# 제목1\n",
    "## 제목2\n",
    "### 제목3\n",
    "#### 제목4\n",
    "##### 제목5\n",
    "평문글자\n",
    "\n",
    "### 많이 쓰는 단축키\n",
    "- Ctrl-Enter: 셀 실행\n",
    "- Alt-Enter: 셀 실행 후 아래에 셀 삽입\n",
    "- Tab: 자동 들여쓰기\n",
    "- Ctrl-]: 들여쓰기\n",
    "- Ctrl-s: 저장하기\n",
    "- Ctrl-z,y: undo, redo\n",
    "\n",
    "### 글자체\n",
    "- _이탤릭_, *이탤릭*\n",
    "- __볼드__, **볼드**\n",
    "- [링크](http://google.com)\n",
    "\n",
    "### 리스트\n",
    "- 번호없는 리스트\n",
    "* 번호없는 리스트\n",
    "+ 번호없는 리스트\n",
    "\n",
    "### 운영체제 명령 실행하기\n",
    "- !(운영체제 명령어) ex) !dir\n"
   ]
  },
  {
   "cell_type": "markdown",
   "metadata": {},
   "source": [
    "# 근의 공식을 이용해 2차 방정식 해 구하기\n",
    "\n",
    "근의 공식 $\\frac{-b+\\sqrt{b^2-4ac}}{2a}$와 $\\frac{-b-\\sqrt{b^2-4ac}}{2a}$ 를 이용하여 이차방정식의 근을 구하는 코드입니다."
   ]
  },
  {
   "cell_type": "code",
   "execution_count": 5,
   "metadata": {
    "collapsed": false
   },
   "outputs": [
    {
     "name": "stdout",
     "output_type": "stream",
     "text": [
      "이차방정식의 2차항의 계수를 입력하세요-1\n",
      "이차방정식의 1차항의 계수를 입력하세요1\n",
      "이차방정식의 상수항의 계수를 입력하세요2\n",
      "당신이 입력한 계수는 각각 -1 1 2 입니다.\n",
      "x1 = -1.000000, x2 = 2.000000\n"
     ]
    }
   ],
   "source": [
    "import math\n",
    "\n",
    "a = input(\"이차방정식의 2차항의 계수를 입력하세요\")\n",
    "b = input(\"이차방정식의 1차항의 계수를 입력하세요\")\n",
    "c = input(\"이차방정식의 상수항의 계수를 입력하세요\")\n",
    "\n",
    "a, b, c = int(a), int(b), int(c)\n",
    "\n",
    "print(\"당신이 입력한 계수는 각각 %d %d %d 입니다.\" %(a, b, c))\n",
    "dec = b**2 - 4*a*c\n",
    "if dec <0:\n",
    "    print(\"판별식이 0보다 작습니다\")\n",
    "else:\n",
    "    x1 = (-b+math.sqrt(dec))/(2*a)\n",
    "    x2 = (-b-math.sqrt(dec))/(2*a)\n",
    "    \n",
    "    if dec == 0:\n",
    "        print(\"중근: %f\" %x1)\n",
    "    else:\n",
    "        print(\"x1 = %f, x2 = %f\" %(x1, x2))"
   ]
  }
 ],
 "metadata": {
  "anaconda-cloud": {},
  "kernelspec": {
   "display_name": "Python [default]",
   "language": "python",
   "name": "python3"
  },
  "language_info": {
   "codemirror_mode": {
    "name": "ipython",
    "version": 3
   },
   "file_extension": ".py",
   "mimetype": "text/x-python",
   "name": "python",
   "nbconvert_exporter": "python",
   "pygments_lexer": "ipython3",
   "version": "3.5.2"
  }
 },
 "nbformat": 4,
 "nbformat_minor": 1
}
