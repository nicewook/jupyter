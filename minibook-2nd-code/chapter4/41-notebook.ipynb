{
  "cells": [
    {
      "cell_type": "markdown",
      "metadata": {},
      "source": "## Choosing a plotting backend"
    },
    {
      "cell_type": "markdown",
      "metadata": {},
      "source": "### Inline plots"
    },
    {
      "cell_type": "code",
      "execution_count": 1,
      "metadata": {},
      "outputs": [],
      "source": "import numpy as np\nimport matplotlib.pyplot as plt"
    },
    {
      "cell_type": "code",
      "execution_count": 2,
      "metadata": {},
      "outputs": [],
      "source": "%matplotlib inline"
    },
    {
      "cell_type": "code",
      "execution_count": 3,
      "metadata": {},
      "outputs": [],
      "source": "plt.imshow(np.random.rand(10, 10), interpolation='none')"
    },
    {
      "cell_type": "markdown",
      "metadata": {},
      "source": "### Exported figures"
    },
    {
      "cell_type": "markdown",
      "metadata": {},
      "source": "### GUI toolkits"
    },
    {
      "cell_type": "code",
      "execution_count": 4,
      "metadata": {},
      "outputs": [],
      "source": "%matplotlib qt\nplt.imshow(np.random.rand(10, 10), interpolation='none')"
    },
    {
      "cell_type": "markdown",
      "metadata": {},
      "source": "### Dynamic inline plots"
    },
    {
      "cell_type": "code",
      "execution_count": 5,
      "metadata": {},
      "outputs": [],
      "source": "import matplotlib\nmatplotlib.use('nbagg')"
    },
    {
      "cell_type": "code",
      "execution_count": 6,
      "metadata": {},
      "outputs": [],
      "source": "plt.imshow(np.random.rand(10, 10), interpolation='none')\nplt.show()"
    },
    {
      "cell_type": "markdown",
      "metadata": {},
      "source": "### Web-based visualization"
    },
    {
      "cell_type": "code",
      "execution_count": 7,
      "metadata": {},
      "outputs": [],
      "source": "import numpy as np\nimport matplotlib.pyplot as plt\n%matplotlib inline\nimport mpld3\nmpld3.enable_notebook()"
    },
    {
      "cell_type": "code",
      "execution_count": 8,
      "metadata": {},
      "outputs": [],
      "source": "plt.imshow(np.random.rand(10, 10), interpolation='none')"
    }
  ],
  "metadata": {},
  "nbformat": 4,
  "nbformat_minor": 0
}