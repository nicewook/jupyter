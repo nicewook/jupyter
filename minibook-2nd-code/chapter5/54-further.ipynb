{
  "cells": [
    {
      "cell_type": "markdown",
      "metadata": {},
      "source": "## Further high-performance computing techniques"
    },
    {
      "cell_type": "markdown",
      "metadata": {},
      "source": "### MPI"
    },
    {
      "cell_type": "markdown",
      "metadata": {},
      "source": "### Distributed computing"
    },
    {
      "cell_type": "markdown",
      "metadata": {},
      "source": "### C/C++ with Python"
    },
    {
      "cell_type": "markdown",
      "metadata": {},
      "source": "### GPU computing"
    },
    {
      "cell_type": "markdown",
      "metadata": {},
      "source": "### PyPy"
    },
    {
      "cell_type": "markdown",
      "metadata": {},
      "source": "### Julia"
    }
  ],
  "metadata": {},
  "nbformat": 4,
  "nbformat_minor": 0
}