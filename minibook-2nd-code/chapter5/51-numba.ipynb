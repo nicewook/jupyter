{
  "cells": [
    {
      "cell_type": "markdown",
      "metadata": {},
      "source": "## Accelerating Python code with Numba"
    },
    {
      "cell_type": "code",
      "execution_count": 1,
      "metadata": {},
      "outputs": [],
      "source": "import math\nimport random\nimport numpy as np\nfrom numba import jit, vectorize, float64\nimport matplotlib.pyplot as plt\nimport seaborn\n%matplotlib inline"
    },
    {
      "cell_type": "markdown",
      "metadata": {},
      "source": "### Random walk"
    },
    {
      "cell_type": "code",
      "execution_count": 2,
      "metadata": {},
      "outputs": [],
      "source": "def step():\n    return 1. if random.random() > .5 else -1."
    },
    {
      "cell_type": "code",
      "execution_count": 3,
      "metadata": {},
      "outputs": [],
      "source": "def walk(n):\n    x = np.zeros(n)\n    dx = 1. / n\n    for i in range(n - 1):\n        x_new = x[i] + dx * step()\n        if x_new > 5e-3:\n            x[i + 1] = 0.\n        else:\n            x[i + 1] = x_new\n    return x"
    },
    {
      "cell_type": "code",
      "execution_count": 4,
      "metadata": {},
      "outputs": [],
      "source": "n = 100000\nx = walk(n)"
    },
    {
      "cell_type": "code",
      "execution_count": 5,
      "metadata": {},
      "outputs": [],
      "source": "plt.plot(x)"
    },
    {
      "cell_type": "code",
      "execution_count": 6,
      "metadata": {},
      "outputs": [
        {
          "data": {
            "text/plain": "10 loops, best of 3: 57.6 ms per loop"
          },
          "execution_count": 6,
          "metadata": {},
          "output_type": "execute_result"
        }
      ],
      "source": "%%timeit\nwalk(n)"
    },
    {
      "cell_type": "code",
      "execution_count": 7,
      "metadata": {},
      "outputs": [],
      "source": "@jit(nopython=True)\ndef step_numba():\n    return 1. if random.random() > .5 else -1."
    },
    {
      "cell_type": "code",
      "execution_count": 8,
      "metadata": {},
      "outputs": [],
      "source": "@jit(nopython=True)\ndef walk_numba(n):\n    x = np.zeros(n)\n    dx = 1. / n\n    for i in range(n - 1):\n        x_new = x[i] + dx * step_numba()\n        if x_new > 5e-3:\n            x[i + 1] = 0.\n        else:\n            x[i + 1] = x_new\n    return x"
    },
    {
      "cell_type": "code",
      "execution_count": 9,
      "metadata": {},
      "outputs": [
        {
          "data": {
            "text/plain": "The slowest run took 81.94 times longer than the fastest. This could mean that an intermediate result is being cached\n1000 loops, best of 3: 1.89 ms per loop"
          },
          "execution_count": 9,
          "metadata": {},
          "output_type": "execute_result"
        }
      ],
      "source": "%%timeit\nwalk_numba(n)"
    },
    {
      "cell_type": "markdown",
      "metadata": {},
      "source": "### Universal functions"
    },
    {
      "cell_type": "code",
      "execution_count": 10,
      "metadata": {},
      "outputs": [
        {
          "data": {
            "text/plain": "1 loops, best of 3: 689 ms per loop"
          },
          "execution_count": 10,
          "metadata": {},
          "output_type": "execute_result"
        }
      ],
      "source": "x = np.random.rand(10000000)\n%timeit np.cos(2*x**2 + 3*x + 4*np.exp(x**3))"
    },
    {
      "cell_type": "code",
      "execution_count": 11,
      "metadata": {},
      "outputs": [],
      "source": "@vectorize\ndef kernel(x):\n    return np.cos(2*x**2 + 3*x + 4*np.exp(x**3))"
    },
    {
      "cell_type": "code",
      "execution_count": 12,
      "metadata": {},
      "outputs": [
        {
          "data": {
            "text/plain": "-0.98639139715432589"
          },
          "execution_count": 12,
          "metadata": {},
          "output_type": "execute_result"
        }
      ],
      "source": "kernel(1.)"
    },
    {
      "cell_type": "code",
      "execution_count": 13,
      "metadata": {},
      "outputs": [
        {
          "data": {
            "text/plain": "1 loops, best of 3: 324 ms per loop"
          },
          "execution_count": 13,
          "metadata": {},
          "output_type": "execute_result"
        }
      ],
      "source": "%timeit kernel(x)"
    },
    {
      "cell_type": "code",
      "execution_count": 14,
      "metadata": {},
      "outputs": [
        {
          "data": {
            "text/plain": "10 loops, best of 3: 122 ms per loop"
          },
          "execution_count": 14,
          "metadata": {},
          "output_type": "execute_result"
        }
      ],
      "source": "import numexpr\n%timeit numexpr.evaluate('cos(2*x**2 + 3*x + 4*exp(x**3))')"
    },
    {
      "cell_type": "code",
      "execution_count": 15,
      "metadata": {},
      "outputs": [
        {
          "data": {
            "text/plain": "4"
          },
          "execution_count": 15,
          "metadata": {},
          "output_type": "execute_result"
        }
      ],
      "source": "numexpr.detect_number_of_cores()"
    }
  ],
  "metadata": {},
  "nbformat": 4,
  "nbformat_minor": 0
}